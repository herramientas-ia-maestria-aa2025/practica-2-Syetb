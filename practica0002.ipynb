{
 "cells": [
  {
   "cell_type": "code",
   "execution_count": 1,
   "id": "28845814",
   "metadata": {
    "ExecuteTime": {
     "end_time": "2025-05-17T01:27:00.209989Z",
     "start_time": "2025-05-17T01:27:00.205961Z"
    }
   },
   "outputs": [],
   "source": [
    "# Cargar librerías\n",
    "import pandas as pd\n",
    "import numpy as np\n",
    "from sklearn.linear_model import LogisticRegression\n",
    "from sklearn.preprocessing import StandardScaler\n",
    "from sklearn.pipeline import Pipeline\n",
    "from sklearn.model_selection import train_test_split\n",
    "from sklearn.metrics import accuracy_score, precision_score\n",
    "import mlflow\n",
    "import mlflow.sklearn\n"
   ]
  },
  {
   "cell_type": "code",
   "execution_count": 2,
   "id": "da619e05",
   "metadata": {
    "ExecuteTime": {
     "end_time": "2025-05-17T01:27:00.239974Z",
     "start_time": "2025-05-17T01:27:00.224726Z"
    }
   },
   "outputs": [],
   "source": [
    "# Leer datos\n",
    "df = pd.read_csv(\"data/diabetes.csv\")\n",
    "\n"
   ]
  },
  {
   "cell_type": "code",
   "execution_count": 3,
   "id": "f287d4ff-786f-400c-acbd-06af393ea280",
   "metadata": {
    "ExecuteTime": {
     "end_time": "2025-05-17T01:27:00.286576Z",
     "start_time": "2025-05-17T01:27:00.273034Z"
    }
   },
   "outputs": [
    {
     "data": {
      "text/plain": [
       "Pregnancies                 111\n",
       "Glucose                       5\n",
       "BloodPressure                35\n",
       "SkinThickness               227\n",
       "Insulin                     374\n",
       "BMI                          11\n",
       "DiabetesPedigreeFunction      0\n",
       "Age                           0\n",
       "Outcome                     500\n",
       "dtype: int64"
      ]
     },
     "execution_count": 3,
     "metadata": {},
     "output_type": "execute_result"
    }
   ],
   "source": [
    "# identifica las columnas que tiene valores 0\n",
    "(df==0).sum()"
   ]
  },
  {
   "cell_type": "code",
   "execution_count": 4,
   "id": "9d063202-3384-456c-8bbf-924911f25144",
   "metadata": {
    "ExecuteTime": {
     "end_time": "2025-05-17T01:27:00.379400Z",
     "start_time": "2025-05-17T01:27:00.366367Z"
    }
   },
   "outputs": [],
   "source": [
    "# Reemplazar ceros en columnas específicas por NaN\n",
    "cols_to_clean = ['Glucose', 'BloodPressure', 'SkinThickness', 'Insulin']\n",
    "# No se consideran algunas, por ejemplo Pregnancies (por qué si es posible que se tengan cero embarazos)\n",
    "\n",
    "# Reemplazar ceros por NaN para poder tratarlos como datos faltantes\n",
    "for col in cols_to_clean:\n",
    "    df[col] = df[col].replace(0, np.nan)\n",
    "\n",
    "# Reemplazar NaN con la moda (valor más frecuente) de cada columna\n",
    "for col in cols_to_clean:\n",
    "    moda = df[col].mode()[0]\n",
    "    df[col] = df[col].fillna(moda)\n"
   ]
  },
  {
   "cell_type": "code",
   "execution_count": 5,
   "id": "4be9af71",
   "metadata": {
    "ExecuteTime": {
     "end_time": "2025-05-17T01:27:00.470764Z",
     "start_time": "2025-05-17T01:27:00.454355Z"
    }
   },
   "outputs": [],
   "source": [
    "# Separar datos\n",
    "X = df.drop(\"Outcome\", axis=1)\n",
    "y = df[\"Outcome\"]\n",
    "\n",
    "X_train, X_test, y_train, y_test = train_test_split(X, y, test_size=0.2, random_state=42)\n"
   ]
  },
  {
   "cell_type": "code",
   "execution_count": 6,
   "id": "ee6500fe-a589-4021-a1b0-68d0f1f742c7",
   "metadata": {
    "ExecuteTime": {
     "end_time": "2025-05-17T01:27:03.149971Z",
     "start_time": "2025-05-17T01:27:00.550914Z"
    }
   },
   "outputs": [
    {
     "data": {
      "text/plain": [
       "<Experiment: artifact_location='mlflow-artifacts:/2', creation_time=1747452951936, experiment_id='2', last_update_time=1747452951936, lifecycle_stage='active', name='ClasificadorDemoDiabetes', tags={}>"
      ]
     },
     "execution_count": 6,
     "metadata": {},
     "output_type": "execute_result"
    }
   ],
   "source": [
    "# agregar el traking uri de mlflow\n",
    "mlflow.set_tracking_uri(\"http://0.0.0.0:9090\")\n",
    "\n",
    "# Crear experimento\n",
    "mlflow.create_experiment(name=\"ClasificadorDemoDiabetes\")\n",
    "\n",
    "# agregar set_experiment con nombre: ClasificadorDemoDiabetes\n",
    "mlflow.set_experiment(\"ClasificadorDemoDiabetes\")"
   ]
  },
  {
   "cell_type": "code",
   "execution_count": 7,
   "id": "c5784cd6",
   "metadata": {
    "ExecuteTime": {
     "end_time": "2025-05-17T01:27:55.833108Z",
     "start_time": "2025-05-17T01:27:17.116125Z"
    }
   },
   "outputs": [
    {
     "name": "stderr",
     "output_type": "stream",
     "text": [
      "\u001b[31m2025/05/16 22:35:54 WARNING mlflow.models.model: Model logged without a signature and input example. Please set `input_example` parameter when logging the model to auto infer the model signature.\u001b[0m\n"
     ]
    },
    {
     "name": "stdout",
     "output_type": "stream",
     "text": [
      " Modelo registrado en MLflow\n",
      "Accuracy: 0.7532 | Precision: 0.6667\n",
      "🏃 View run likeable-zebra-191 at: http://0.0.0.0:9090/#/experiments/2/runs/7fe715ae12b746afb9f1e88d2fb89d1c\n",
      "🧪 View experiment at: http://0.0.0.0:9090/#/experiments/2\n"
     ]
    },
    {
     "name": "stderr",
     "output_type": "stream",
     "text": [
      "\u001b[31m2025/05/16 22:35:56 WARNING mlflow.models.model: Model logged without a signature and input example. Please set `input_example` parameter when logging the model to auto infer the model signature.\u001b[0m\n"
     ]
    },
    {
     "name": "stdout",
     "output_type": "stream",
     "text": [
      " Modelo registrado en MLflow\n",
      "Accuracy: 0.7532 | Precision: 0.6667\n",
      "🏃 View run amazing-finch-614 at: http://0.0.0.0:9090/#/experiments/2/runs/2947b4cbe8d041ef85ba9bfa5b088b81\n",
      "🧪 View experiment at: http://0.0.0.0:9090/#/experiments/2\n"
     ]
    },
    {
     "name": "stderr",
     "output_type": "stream",
     "text": [
      "\u001b[31m2025/05/16 22:35:58 WARNING mlflow.models.model: Model logged without a signature and input example. Please set `input_example` parameter when logging the model to auto infer the model signature.\u001b[0m\n"
     ]
    },
    {
     "name": "stdout",
     "output_type": "stream",
     "text": [
      " Modelo registrado en MLflow\n",
      "Accuracy: 0.7532 | Precision: 0.6667\n",
      "🏃 View run luxuriant-stork-996 at: http://0.0.0.0:9090/#/experiments/2/runs/babf4f98353042409fcd793f69089bb5\n",
      "🧪 View experiment at: http://0.0.0.0:9090/#/experiments/2\n"
     ]
    },
    {
     "name": "stderr",
     "output_type": "stream",
     "text": [
      "\u001b[31m2025/05/16 22:36:00 WARNING mlflow.models.model: Model logged without a signature and input example. Please set `input_example` parameter when logging the model to auto infer the model signature.\u001b[0m\n"
     ]
    },
    {
     "name": "stdout",
     "output_type": "stream",
     "text": [
      " Modelo registrado en MLflow\n",
      "Accuracy: 0.7532 | Precision: 0.6667\n",
      "🏃 View run industrious-asp-202 at: http://0.0.0.0:9090/#/experiments/2/runs/8c417f5d829441bfa6064beabfe7353d\n",
      "🧪 View experiment at: http://0.0.0.0:9090/#/experiments/2\n"
     ]
    },
    {
     "name": "stderr",
     "output_type": "stream",
     "text": [
      "\u001b[31m2025/05/16 22:36:02 WARNING mlflow.models.model: Model logged without a signature and input example. Please set `input_example` parameter when logging the model to auto infer the model signature.\u001b[0m\n"
     ]
    },
    {
     "name": "stdout",
     "output_type": "stream",
     "text": [
      " Modelo registrado en MLflow\n",
      "Accuracy: 0.7532 | Precision: 0.6667\n",
      "🏃 View run bustling-bat-525 at: http://0.0.0.0:9090/#/experiments/2/runs/85be63550071404a992136286a627575\n",
      "🧪 View experiment at: http://0.0.0.0:9090/#/experiments/2\n"
     ]
    },
    {
     "name": "stderr",
     "output_type": "stream",
     "text": [
      "\u001b[31m2025/05/16 22:36:04 WARNING mlflow.models.model: Model logged without a signature and input example. Please set `input_example` parameter when logging the model to auto infer the model signature.\u001b[0m\n"
     ]
    },
    {
     "name": "stdout",
     "output_type": "stream",
     "text": [
      " Modelo registrado en MLflow\n",
      "Accuracy: 0.7532 | Precision: 0.6667\n",
      "🏃 View run casual-cub-612 at: http://0.0.0.0:9090/#/experiments/2/runs/e350394fa61e4a9694f299cf6f765dac\n",
      "🧪 View experiment at: http://0.0.0.0:9090/#/experiments/2\n"
     ]
    },
    {
     "name": "stderr",
     "output_type": "stream",
     "text": [
      "\u001b[31m2025/05/16 22:36:05 WARNING mlflow.models.model: Model logged without a signature and input example. Please set `input_example` parameter when logging the model to auto infer the model signature.\u001b[0m\n"
     ]
    },
    {
     "name": "stdout",
     "output_type": "stream",
     "text": [
      " Modelo registrado en MLflow\n",
      "Accuracy: 0.7532 | Precision: 0.6667\n",
      "🏃 View run efficient-shrew-791 at: http://0.0.0.0:9090/#/experiments/2/runs/f7a6619b16054d668190c346fa7702fb\n",
      "🧪 View experiment at: http://0.0.0.0:9090/#/experiments/2\n"
     ]
    },
    {
     "name": "stderr",
     "output_type": "stream",
     "text": [
      "\u001b[31m2025/05/16 22:36:07 WARNING mlflow.models.model: Model logged without a signature and input example. Please set `input_example` parameter when logging the model to auto infer the model signature.\u001b[0m\n"
     ]
    },
    {
     "name": "stdout",
     "output_type": "stream",
     "text": [
      " Modelo registrado en MLflow\n",
      "Accuracy: 0.7532 | Precision: 0.6667\n",
      "🏃 View run valuable-fawn-228 at: http://0.0.0.0:9090/#/experiments/2/runs/41920b4598ce4b6fb45d55bde450aa64\n",
      "🧪 View experiment at: http://0.0.0.0:9090/#/experiments/2\n"
     ]
    },
    {
     "name": "stderr",
     "output_type": "stream",
     "text": [
      "\u001b[31m2025/05/16 22:36:09 WARNING mlflow.models.model: Model logged without a signature and input example. Please set `input_example` parameter when logging the model to auto infer the model signature.\u001b[0m\n"
     ]
    },
    {
     "name": "stdout",
     "output_type": "stream",
     "text": [
      " Modelo registrado en MLflow\n",
      "Accuracy: 0.7532 | Precision: 0.6667\n",
      "🏃 View run thundering-owl-24 at: http://0.0.0.0:9090/#/experiments/2/runs/1102fb33bf3044d3a5918f2d5ee0a1d2\n",
      "🧪 View experiment at: http://0.0.0.0:9090/#/experiments/2\n"
     ]
    },
    {
     "name": "stderr",
     "output_type": "stream",
     "text": [
      "\u001b[31m2025/05/16 22:36:11 WARNING mlflow.models.model: Model logged without a signature and input example. Please set `input_example` parameter when logging the model to auto infer the model signature.\u001b[0m\n"
     ]
    },
    {
     "name": "stdout",
     "output_type": "stream",
     "text": [
      " Modelo registrado en MLflow\n",
      "Accuracy: 0.7532 | Precision: 0.6667\n",
      "🏃 View run big-gnat-659 at: http://0.0.0.0:9090/#/experiments/2/runs/4e5ab68c0fe94d5c91f14f28b390f666\n",
      "🧪 View experiment at: http://0.0.0.0:9090/#/experiments/2\n"
     ]
    }
   ],
   "source": [
    "# Entrenamiento y registro con MLflow\n",
    "C = 1.0\n",
    "max_iter = 1000\n",
    "# usar los parámetros del archivo logreg_variaciones_educativas.csv\n",
    "df = pd.read_csv(\"data/logreg_variaciones_educativas.csv\")\n",
    "# para los parámtros C, max_iter, solver y penalty de LogisticRegresion\n",
    "# se debe genear un run por cada fila del archivo, usando sus parámetros\n",
    "# Analizar que usar\n",
    "\n",
    "\n",
    "# agregar la línea del start_run\n",
    "for index, row in df.iterrows():\n",
    "    C = row[\"logreg_C\"]\n",
    "    max_iter = row[\"logreg_max_iter\"]\n",
    "    solver = row[\"solver\"]\n",
    "    penalty = row[\"penalty\"]\n",
    "    with mlflow.start_run():\n",
    "        # El pipeline usar StandarScaler para que todos los valore numéricos estén en la misma escala\n",
    "        # no cambiar dicha línea\n",
    "        # LogisticRegresion deben variar sus parámetros en cada iteración.\n",
    "        pipeline = Pipeline([\n",
    "                (\"scaler\", StandardScaler()),\n",
    "                (\"clf\", LogisticRegression(\n",
    "                    C=1.0,\n",
    "                    max_iter=1000,\n",
    "                    solver=\"liblinear\",\n",
    "                    penalty=\"l2\"\n",
    "                ))\n",
    "            ])\n",
    "\n",
    "        # Entrenar y evaluar\n",
    "        pipeline.fit(X_train, y_train)\n",
    "        y_pred = pipeline.predict(X_test)\n",
    "\n",
    "        acc = accuracy_score(y_test, y_pred)\n",
    "        prec = precision_score(y_test, y_pred)\n",
    "\n",
    "        # recuerde que log_param y log_metric debe ir guardando los valores\n",
    "        # dependiendo del run correspondiente de cada fila\n",
    "        mlflow.log_param(\"logreg_C\", C)\n",
    "        mlflow.log_param(\"logreg_max_iter\", max_iter)\n",
    "        mlflow.log_param(\"solver\", \"liblinear\")\n",
    "        mlflow.log_param(\"penalty\", \"l2\")\n",
    "\n",
    "        mlflow.log_metric(\"accuracy\", acc)\n",
    "        mlflow.log_metric(\"precision\", prec)\n",
    "\n",
    "        # Guardar el pipeline completo\n",
    "        mlflow.sklearn.log_model(pipeline, \"modelo_pipeline\")\n",
    "\n",
    "        print(\" Modelo registrado en MLflow\")\n",
    "        print(f\"Accuracy: {acc:.4f} | Precision: {prec:.4f}\")\n"
   ]
  },
  {
   "cell_type": "code",
   "execution_count": null,
   "id": "06c9eb27-a3f2-4e14-b2bc-e308fc71514b",
   "metadata": {},
   "outputs": [],
   "source": []
  }
 ],
 "metadata": {
  "kernelspec": {
   "display_name": "Python 3 (ipykernel)",
   "language": "python",
   "name": "python3"
  },
  "language_info": {
   "codemirror_mode": {
    "name": "ipython",
    "version": 3
   },
   "file_extension": ".py",
   "mimetype": "text/x-python",
   "name": "python",
   "nbconvert_exporter": "python",
   "pygments_lexer": "ipython3",
   "version": "3.12.10"
  }
 },
 "nbformat": 4,
 "nbformat_minor": 5
}
